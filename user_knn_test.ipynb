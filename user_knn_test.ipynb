{
 "cells": [
  {
   "cell_type": "markdown",
   "metadata": {},
   "source": [
    "# UserKNN Implementation Testing\n",
    "Using a sample dataset from the UserKNN paper (<a href=''>GroupLens</a>), implement the \n",
    "following collobrative filtering algorithm:\n",
    "$$P = \\vec \\mu + \\frac{(A - \\bar J) R}{M abs(R)}"
   ]
  },
  {
   "cell_type": "code",
   "execution_count": 2,
   "metadata": {},
   "outputs": [],
   "source": [
    "import numpy as np"
   ]
  },
  {
   "cell_type": "code",
   "execution_count": 1,
   "metadata": {},
   "outputs": [],
   "source": [
    "rating_json = [\n",
    "    {'id': 1, 'reviews':[{'reviewer_id': 'Ken', 'rating': 1}, {'reviewer_id': 'Lee', 'rating': 4}, {'reviewer_id': 'Meg', 'rating': 2}, {'reviewer_id': 'Nan', 'rating': 2}] },\n",
    "    {'id': 2, 'reviews':[{'reviewer_id': 'Ken', 'rating': 5}, {'reviewer_id': 'Lee', 'rating': 2}, {'reviewer_id': 'Meg', 'rating': 4}, {'reviewer_id': 'Nan', 'rating': 4}] },\n",
    "    {'id': 3, 'reviews':[ {'reviewer_id': 'Meg', 'rating': 2}]},\n",
    "    {'id': 4, 'reviews':[{'reviewer_id': 'Ken', 'rating': 2}, {'reviewer_id': 'Lee', 'rating': 5}, {'reviewer_id': 'Nan', 'rating': 5}] },\n",
    "    {'id': 5, 'reviews':[{'reviewer_id': 'Ken', 'rating': 4}, {'reviewer_id': 'Lee', 'rating': 1}, {'reviewer_id': 'Nan', 'rating': 1}] },\n",
    "    {'id': 6, 'reviews':[{'reviewer_id': 'Lee', 'rating': 2}, {'reviewer_id': 'Meg', 'rating': 5}] },\n",
    "]"
   ]
  },
  {
   "cell_type": "code",
   "execution_count": null,
   "metadata": {},
   "outputs": [],
   "source": [
    "reviewers = []\n",
    "for i in rating_json:\n",
    "    pass"
   ]
  },
  {
   "cell_type": "markdown",
   "metadata": {},
   "source": [
    "\n",
    "\n",
    "Create test datasets from paper"
   ]
  },
  {
   "cell_type": "code",
   "execution_count": 3,
   "metadata": {},
   "outputs": [],
   "source": [
    "# Ratings array, unrated items are 0\n",
    "# TODO - unrated items come in as nan, mask generated programatically\n",
    "A = np.array([\n",
    "    [1, 4, 2, 2],\n",
    "    [5, 2, 4, 4],\n",
    "    [0, 0, 3, 0],\n",
    "    [2, 5, 0, 5],\n",
    "    [4, 1, 0, 1],\n",
    "    [0, 2, 5, 0]\n",
    "])\n",
    "\n",
    "\n",
    "# Mask for ratings\n",
    "M = np.array([\n",
    "    [1, 1, 1, 1],\n",
    "    [1, 1, 1, 1],\n",
    "    [0, 0, 1, 0],\n",
    "    [1, 1, 0, 1],\n",
    "    [1, 1, 0, 1],\n",
    "    [0, 1, 1, 0]\n",
    "])\n",
    "\n",
    "n, p = A.shape"
   ]
  },
  {
   "cell_type": "markdown",
   "metadata": {},
   "source": [
    "Calculate mean for each user $\\bar \\mu$"
   ]
  },
  {
   "cell_type": "code",
   "execution_count": 4,
   "metadata": {},
   "outputs": [
    {
     "data": {
      "text/plain": [
       "array([3. , 2.8, 3.5, 3. ])"
      ]
     },
     "execution_count": 4,
     "metadata": {},
     "output_type": "execute_result"
    }
   ],
   "source": [
    "mu = np.sum(A, axis=0) / np.sum(M, axis=0) # mean of ALL ratings for each user, no exclusions\n",
    "mu"
   ]
  },
  {
   "cell_type": "markdown",
   "metadata": {},
   "source": [
    "Calculate covariance matrix  $r_{KJ}$"
   ]
  },
  {
   "cell_type": "code",
   "execution_count": 5,
   "metadata": {},
   "outputs": [
    {
     "data": {
      "text/plain": [
       "array([[ 0.        , -0.8       ,  1.        ,  0.        ],\n",
       "       [-0.8       ,  0.        , -0.96380941,  0.6       ],\n",
       "       [ 1.        , -0.96380941,  0.        ,  1.        ],\n",
       "       [ 0.        ,  0.6       ,  1.        ,  0.        ]])"
      ]
     },
     "execution_count": 5,
     "metadata": {},
     "output_type": "execute_result"
    }
   ],
   "source": [
    "A = A.astype('float')\n",
    "A[A == 0] = np.nan # so non-values are excluded from correlation coefficients\n",
    "R = np.ma.corrcoef(np.ma.masked_invalid(A), rowvar=False).data\n",
    "np.fill_diagonal(R, 0) # so self-value isn't summed in numerator Sum(J_i - J_bar) @ R\n",
    "A = np.nan_to_num(A, nan=0)\n",
    "R"
   ]
  },
  {
   "cell_type": "code",
   "execution_count": 6,
   "metadata": {},
   "outputs": [
    {
     "data": {
      "text/plain": [
       "array([[1., 4., 2., 2.],\n",
       "       [5., 2., 4., 4.],\n",
       "       [0., 0., 3., 0.],\n",
       "       [2., 5., 0., 5.],\n",
       "       [4., 1., 0., 1.],\n",
       "       [0., 2., 5., 0.]])"
      ]
     },
     "execution_count": 6,
     "metadata": {},
     "output_type": "execute_result"
    }
   ],
   "source": [
    "A"
   ]
  },
  {
   "cell_type": "markdown",
   "metadata": {},
   "source": [
    "Create denominator $ \\sum_{J} |r_{KJ}| \\forall K$."
   ]
  },
  {
   "cell_type": "code",
   "execution_count": 7,
   "metadata": {},
   "outputs": [
    {
     "data": {
      "text/plain": [
       "array([[1.8       , 2.36380941, 2.96380941, 1.6       ],\n",
       "       [1.8       , 2.36380941, 2.96380941, 1.6       ],\n",
       "       [1.        , 0.96380941, 0.        , 1.        ],\n",
       "       [0.8       , 1.4       , 2.96380941, 0.6       ],\n",
       "       [0.8       , 1.4       , 2.96380941, 0.6       ],\n",
       "       [1.8       , 0.96380941, 0.96380941, 1.6       ]])"
      ]
     },
     "execution_count": 7,
     "metadata": {},
     "output_type": "execute_result"
    }
   ],
   "source": [
    "D = M @ abs(R)\n",
    "D"
   ]
  },
  {
   "cell_type": "markdown",
   "metadata": {},
   "source": [
    "Create $\\bar J$, where for the $i^{th}$ row, take the average for each user's entire column **excluding** the $i^{th}$ value\n"
   ]
  },
  {
   "cell_type": "code",
   "execution_count": 8,
   "metadata": {},
   "outputs": [
    {
     "data": {
      "text/plain": [
       "array([[3.66666667, 2.5       , 4.        , 3.33333333],\n",
       "       [2.33333333, 3.        , 3.33333333, 2.66666667],\n",
       "       [3.        , 2.8       , 3.66666667, 3.        ],\n",
       "       [3.33333333, 2.25      , 3.5       , 2.33333333],\n",
       "       [2.66666667, 3.25      , 3.5       , 3.66666667],\n",
       "       [3.        , 3.        , 3.        , 3.        ]])"
      ]
     },
     "execution_count": 8,
     "metadata": {},
     "output_type": "execute_result"
    }
   ],
   "source": [
    "D0 = np.ones([n,n])\n",
    "np.fill_diagonal(D0, 0)\n",
    "\n",
    "J_bar = (D0 @ A) / (D0 @ M)\n",
    "J_bar"
   ]
  },
  {
   "cell_type": "markdown",
   "metadata": {},
   "source": [
    "alternative that i think is wrong: \n",
    "$ \\bar J$ is the $j^{th}$ th person's average rating with respect to the $i^{th}$ person (based on overlapping reviews)"
   ]
  },
  {
   "cell_type": "code",
   "execution_count": 9,
   "metadata": {},
   "outputs": [],
   "source": [
    "#J_bar = (M.T @ A) / (M.T @ M)\n"
   ]
  },
  {
   "cell_type": "code",
   "execution_count": 10,
   "metadata": {},
   "outputs": [
    {
     "name": "stderr",
     "output_type": "stream",
     "text": [
      "/var/folders/h1/bx_cjpyx3b74dlfph6x6vk3c0000gn/T/ipykernel_23080/2664878507.py:1: RuntimeWarning: divide by zero encountered in divide\n",
      "  P = mu + ((A - J_bar) @ R) / D\n"
     ]
    },
    {
     "data": {
      "text/plain": [
       "array([[ 1.22222222,  4.1795326 ,  1.66259639,  2.3125    ],\n",
       "       [ 3.81481481,  1.96411495,  5.17480722,  3.04166667],\n",
       "       [ 4.57333333,  4.08919639,        -inf,  0.65333333],\n",
       "       [-4.125     ,  7.11428542,  3.05559135, -0.08333333],\n",
       "       [ 0.875     ,  3.30476161,  3.78181226, -5.08333333],\n",
       "       [ 4.55555556,  1.42252972, -1.7252972 ,  3.875     ]])"
      ]
     },
     "execution_count": 10,
     "metadata": {},
     "output_type": "execute_result"
    }
   ],
   "source": [
    "P = mu + ((A - J_bar) @ R) / D\n",
    "P"
   ]
  },
  {
   "cell_type": "markdown",
   "metadata": {},
   "source": [
    "Naïve testing, comparing residuals"
   ]
  },
  {
   "cell_type": "code",
   "execution_count": 12,
   "metadata": {},
   "outputs": [
    {
     "data": {
      "text/plain": [
       "array([[0.22222222, 0.1795326 , 0.33740361, 0.3125    ],\n",
       "       [1.18518519, 0.03588505, 1.17480722, 0.95833333],\n",
       "       [0.        , 0.        ,        inf, 0.        ],\n",
       "       [6.125     , 2.11428542, 0.        , 5.08333333],\n",
       "       [3.125     , 2.30476161, 0.        , 6.08333333],\n",
       "       [0.        , 0.57747028, 6.7252972 , 0.        ]])"
      ]
     },
     "execution_count": 12,
     "metadata": {},
     "output_type": "execute_result"
    }
   ],
   "source": [
    "abs(A - P) * M"
   ]
  },
  {
   "cell_type": "markdown",
   "metadata": {},
   "source": [
    "If we want to replace given values with true value"
   ]
  },
  {
   "cell_type": "code",
   "execution_count": 100,
   "metadata": {},
   "outputs": [
    {
     "name": "stderr",
     "output_type": "stream",
     "text": [
      "/var/folders/h1/bx_cjpyx3b74dlfph6x6vk3c0000gn/T/ipykernel_22722/315074563.py:3: RuntimeWarning: invalid value encountered in multiply\n",
      "  np.nan_to_num(P * M_switch, nan=0) + A\n"
     ]
    },
    {
     "data": {
      "text/plain": [
       "array([[1.        , 4.        , 2.        , 2.        ],\n",
       "       [5.        , 2.        , 4.        , 4.        ],\n",
       "       [4.57333333, 4.08919639, 3.        , 0.65333333],\n",
       "       [2.        , 5.        , 3.05559135, 5.        ],\n",
       "       [4.        , 1.        , 3.78181226, 1.        ],\n",
       "       [4.55555556, 2.        , 5.        , 3.875     ]])"
      ]
     },
     "execution_count": 100,
     "metadata": {},
     "output_type": "execute_result"
    }
   ],
   "source": [
    "M_switch = (M - 1) * -1\n",
    "\n",
    "np.nan_to_num(P * M_switch, nan=0) + A"
   ]
  },
  {
   "cell_type": "markdown",
   "metadata": {},
   "source": []
  },
  {
   "cell_type": "markdown",
   "metadata": {},
   "source": [
    "## SCRATCH\n",
    "Calculate sigma for each user"
   ]
  },
  {
   "cell_type": "code",
   "execution_count": 63,
   "metadata": {},
   "outputs": [],
   "source": [
    "S = np.sqrt(np.diag(((A - mu) ** 2).T @ M)).reshape([p, 1])"
   ]
  },
  {
   "cell_type": "code",
   "execution_count": 64,
   "metadata": {},
   "outputs": [
    {
     "data": {
      "text/plain": [
       "array([[10.        , 10.39230485,  7.07106781, 10.        ],\n",
       "       [10.39230485, 10.8       ,  7.34846923, 10.39230485],\n",
       "       [ 7.07106781,  7.34846923,  5.        ,  7.07106781],\n",
       "       [10.        , 10.39230485,  7.07106781, 10.        ]])"
      ]
     },
     "execution_count": 64,
     "metadata": {},
     "output_type": "execute_result"
    }
   ],
   "source": [
    "S @ S.T"
   ]
  },
  {
   "cell_type": "code",
   "execution_count": 222,
   "metadata": {},
   "outputs": [
    {
     "data": {
      "text/plain": [
       "0.8749999999999999"
      ]
     },
     "execution_count": 222,
     "metadata": {},
     "output_type": "execute_result"
    }
   ],
   "source": [
    "1.4/1.6"
   ]
  },
  {
   "cell_type": "code",
   "execution_count": 225,
   "metadata": {},
   "outputs": [
    {
     "data": {
      "text/plain": [
       "array([[1. , 0.6],\n",
       "       [0.6, 1. ]])"
      ]
     },
     "execution_count": 225,
     "metadata": {},
     "output_type": "execute_result"
    }
   ],
   "source": [
    "np.corrcoef([4,2,5,1], [2,4,5,1])"
   ]
  },
  {
   "cell_type": "code",
   "execution_count": 226,
   "metadata": {},
   "outputs": [
    {
     "data": {
      "text/plain": [
       "array([[1., 1.],\n",
       "       [1., 1.]])"
      ]
     },
     "execution_count": 226,
     "metadata": {},
     "output_type": "execute_result"
    }
   ],
   "source": [
    "np.corrcoef([1, 5], [2,4])"
   ]
  },
  {
   "cell_type": "code",
   "execution_count": 233,
   "metadata": {},
   "outputs": [
    {
     "data": {
      "text/plain": [
       "array([[4, 4, 2, 4],\n",
       "       [4, 5, 3, 4],\n",
       "       [2, 3, 4, 2],\n",
       "       [4, 4, 2, 4]])"
      ]
     },
     "execution_count": 233,
     "metadata": {},
     "output_type": "execute_result"
    }
   ],
   "source": [
    "\n",
    "\n",
    "M.T @ M"
   ]
  },
  {
   "cell_type": "code",
   "execution_count": 238,
   "metadata": {},
   "outputs": [
    {
     "data": {
      "text/plain": [
       "array([[3.        , 3.        , 3.        , 3.        ],\n",
       "       [3.        , 2.8       , 3.66666667, 3.        ],\n",
       "       [3.        , 2.66666667, 3.5       , 3.        ],\n",
       "       [3.        , 3.        , 3.        , 3.        ]])"
      ]
     },
     "execution_count": 238,
     "metadata": {},
     "output_type": "execute_result"
    }
   ],
   "source": [
    "(M.T @ np.nan_to_num(A, nan=0)) / (M.T @ M)"
   ]
  },
  {
   "cell_type": "code",
   "execution_count": 228,
   "metadata": {},
   "outputs": [
    {
     "data": {
      "text/plain": [
       "array([[1, 1, 0, 1, 1, 0],\n",
       "       [1, 1, 0, 1, 1, 1],\n",
       "       [1, 1, 1, 0, 0, 1],\n",
       "       [1, 1, 0, 1, 1, 0]])"
      ]
     },
     "execution_count": 228,
     "metadata": {},
     "output_type": "execute_result"
    }
   ],
   "source": [
    "M.T"
   ]
  },
  {
   "cell_type": "code",
   "execution_count": 38,
   "metadata": {},
   "outputs": [
    {
     "data": {
      "text/plain": [
       "1.5555555555555554"
      ]
     },
     "execution_count": 38,
     "metadata": {},
     "output_type": "execute_result"
    }
   ],
   "source": [
    "2.8/1.8"
   ]
  },
  {
   "cell_type": "code",
   "execution_count": 61,
   "metadata": {},
   "outputs": [
    {
     "data": {
      "text/plain": [
       "array([[4.55555556, 0.8       , 4.5       , 3.875     ],\n",
       "       [4.65185185, 0.46666667, 4.3       , 4.15833333],\n",
       "       [4.57407407, 1.3       , 5.16666667, 3.3125    ],\n",
       "       [4.55555556, 0.8       , 4.5       , 3.875     ]])"
      ]
     },
     "execution_count": 61,
     "metadata": {},
     "output_type": "execute_result"
    }
   ],
   "source": [
    "mu + np.nan_to_num((A[5].reshape([4,1]) @ np.ones([1,4]) - J_bar).T, nan=0) @ R /  D[5]"
   ]
  },
  {
   "cell_type": "code",
   "execution_count": 66,
   "metadata": {},
   "outputs": [
    {
     "data": {
      "text/plain": [
       "array([[3. , 2.8, 3.5, 3. ],\n",
       "       [3. , 2.8, 3.5, 3. ],\n",
       "       [3. , 2.8, 3.5, 3. ],\n",
       "       [3. , 2.8, 3.5, 3. ],\n",
       "       [3. , 2.8, 3.5, 3. ],\n",
       "       [3. , 2.8, 3.5, 3. ]])"
      ]
     },
     "execution_count": 66,
     "metadata": {},
     "output_type": "execute_result"
    }
   ],
   "source": [
    "np.ones(n).reshape([n,1 ]) @ mu.reshape([1, p])"
   ]
  },
  {
   "cell_type": "code",
   "execution_count": 71,
   "metadata": {},
   "outputs": [
    {
     "data": {
      "text/plain": [
       "array([[3.66666667, 2.5       , 4.        , 3.33333333],\n",
       "       [2.33333333, 3.        , 3.33333333, 2.66666667],\n",
       "       [3.        , 2.8       , 3.66666667, 3.        ],\n",
       "       [3.33333333, 2.25      , 3.5       , 2.33333333],\n",
       "       [2.66666667, 3.25      , 3.5       , 3.66666667],\n",
       "       [3.        , 3.        , 3.        , 3.        ]])"
      ]
     },
     "execution_count": 71,
     "metadata": {},
     "output_type": "execute_result"
    }
   ],
   "source": [
    "I0 = np.ones([n,n])\n",
    "np.fill_diagonal(I0, 0)\n",
    "\n",
    "(I0 @ np.nan_to_num(A, nan=0)) / (I0 @ M)\n"
   ]
  },
  {
   "cell_type": "code",
   "execution_count": 70,
   "metadata": {},
   "outputs": [
    {
     "data": {
      "text/plain": [
       "array([[3., 4., 3., 3.],\n",
       "       [3., 4., 3., 3.],\n",
       "       [4., 5., 3., 4.],\n",
       "       [3., 4., 4., 3.],\n",
       "       [3., 4., 4., 3.],\n",
       "       [4., 4., 3., 4.]])"
      ]
     },
     "execution_count": 70,
     "metadata": {},
     "output_type": "execute_result"
    }
   ],
   "source": [
    "I0 @ M"
   ]
  },
  {
   "cell_type": "code",
   "execution_count": null,
   "metadata": {},
   "outputs": [],
   "source": []
  }
 ],
 "metadata": {
  "kernelspec": {
   "display_name": "Python 3.10.5 ('sklearn-env')",
   "language": "python",
   "name": "python3"
  },
  "language_info": {
   "codemirror_mode": {
    "name": "ipython",
    "version": 3
   },
   "file_extension": ".py",
   "mimetype": "text/x-python",
   "name": "python",
   "nbconvert_exporter": "python",
   "pygments_lexer": "ipython3",
   "version": "3.10.5"
  },
  "orig_nbformat": 4,
  "vscode": {
   "interpreter": {
    "hash": "afca08f0a16e92f17a1108b8c4a14bb3a160c0aa49cedbc8bb2f1eb603816dc1"
   }
  }
 },
 "nbformat": 4,
 "nbformat_minor": 2
}
