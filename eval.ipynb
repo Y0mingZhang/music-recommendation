{
 "cells": [
  {
   "cell_type": "code",
   "execution_count": 1,
   "metadata": {},
   "outputs": [],
   "source": [
    "import json\n",
    "import random\n",
    "import numpy as np\n",
    "import pandas as pd\n",
    "import matplotlib.pyplot as plt\n",
    "import src.recommend.user_knn as uk\n",
    "from src.recommend.utils import *\n",
    "import tqdm\n",
    "import warnings\n",
    "import matplotlib"
   ]
  },
  {
   "cell_type": "code",
   "execution_count": 10,
   "metadata": {},
   "outputs": [],
   "source": [
    "def convert_vector(b):\n",
    "    n = len(b)\n",
    "    valid_idx = np.where(~np.isnan(b))[0] #2d vector of nx1, only want row index of valid values\n",
    "    D0 = np.ones([n, len(valid_idx)])\n",
    "    for i, val in enumerate(valid_idx):\n",
    "        D0[val, i] = np.nan\n",
    "    BD0 = b * D0 # broacast\n",
    "    return BD0"
   ]
  },
  {
   "cell_type": "code",
   "execution_count": 3,
   "metadata": {},
   "outputs": [],
   "source": [
    "d = './processed/filtered/'\n",
    "album_df, user_dfs = load_dataframes(d)\n",
    "(user_train_df, user_val_df, user_test_df) = user_dfs"
   ]
  },
  {
   "cell_type": "code",
   "execution_count": 4,
   "metadata": {},
   "outputs": [],
   "source": [
    "X_train = generate_user_item_matrix(user_train_df, album_df)\n",
    "X_val = generate_user_item_matrix(user_val_df, album_df)\n",
    "X_test = generate_user_item_matrix(user_test_df, album_df)"
   ]
  },
  {
   "cell_type": "code",
   "execution_count": 5,
   "metadata": {},
   "outputs": [],
   "source": [
    "# convert from user-rating to rating-user\n",
    "X_train = X_train.T\n",
    "X_test = X_test.T"
   ]
  },
  {
   "cell_type": "code",
   "execution_count": 6,
   "metadata": {},
   "outputs": [],
   "source": [
    "#convert 0 to Nan\n",
    "X_train = X_train.astype('float')\n",
    "X_test = X_test.astype('float')\n",
    "X_train[X_train == 0.0] = np.nan\n",
    "X_test[X_test == 0.0] = np.nan"
   ]
  },
  {
   "cell_type": "markdown",
   "metadata": {},
   "source": [
    "### Strong Generalization"
   ]
  },
  {
   "cell_type": "code",
   "execution_count": 8,
   "metadata": {},
   "outputs": [],
   "source": [
    "uk = uk.UserKNN(X_train)"
   ]
  },
  {
   "cell_type": "code",
   "execution_count": null,
   "metadata": {},
   "outputs": [],
   "source": [
    "P_list = []\n",
    "for i in range(3):\n",
    "    b = X_test[:,i].reshape([-1,1])\n",
    "    uk.B = convert_vector(b)\n",
    "    uk.b_valid_idx = np.where(~np.isnan(b))[0]\n",
    "    uk.gen_M(strong=True)\n",
    "    uk.gen_mu(strong=True)\n",
    "    uk.gen_corrcoef(strong=True) # one vector of test data, 3:22 (17,733 train vectors, 86 test vectors perturbations)\n",
    "    uk.gen_preds(strong=True)\n",
    "    P_list.append(uk.P_strong)\n",
    "    "
   ]
  },
  {
   "cell_type": "code",
   "execution_count": 12,
   "metadata": {},
   "outputs": [],
   "source": [
    "b_true_list = []\n",
    "b_valid_len = []\n",
    "for i in range(3):\n",
    "    b = X_test[:,i].reshape([-1,1])\n",
    "    b_valid_idx = np.where(~np.isnan(b))[0]\n",
    "    b_true = np.array([b[i] for i in b_valid_idx]).squeeze()\n",
    "    b_true_list.append(b_true)\n",
    "    b_valid_len.append(len(b_true))"
   ]
  },
  {
   "cell_type": "markdown",
   "metadata": {},
   "source": [
    "\n",
    "### Performance\n",
    "Mean absolute error for each test user"
   ]
  },
  {
   "cell_type": "code",
   "execution_count": 52,
   "metadata": {},
   "outputs": [
    {
     "name": "stdout",
     "output_type": "stream",
     "text": [
      "---\n",
      "Number of ratings for test user 0: 86\n",
      "Mean absolute error: 9.06\n",
      "---\n",
      "Number of ratings for test user 1: 226\n",
      "Mean absolute error: 6.15\n",
      "---\n",
      "Number of ratings for test user 2: 12\n",
      "Mean absolute error: 4.56\n"
     ]
    }
   ],
   "source": [
    "for i, P in enumerate(P_list):\n",
    "    print(\"---\")\n",
    "    print(f\"Number of ratings for test user {i}: {len(P)}\")\n",
    "    print(f\"Mean absolute error: {round(np.mean(abs(P - b_true_list[i])),2)}\")\n",
    "    "
   ]
  },
  {
   "cell_type": "code",
   "execution_count": 47,
   "metadata": {},
   "outputs": [],
   "source": [
    "P = []\n",
    "b_true = []\n",
    "for p in P_list:\n",
    "    P.extend(p)\n",
    "for b in b_true_list:\n",
    "    b_true.extend(b.tolist())\n"
   ]
  },
  {
   "cell_type": "code",
   "execution_count": 50,
   "metadata": {},
   "outputs": [
    {
     "data": {
      "text/plain": [
       "324"
      ]
     },
     "execution_count": 50,
     "metadata": {},
     "output_type": "execute_result"
    }
   ],
   "source": [
    "len(b_true)"
   ]
  },
  {
   "cell_type": "code",
   "execution_count": 51,
   "metadata": {},
   "outputs": [
    {
     "data": {
      "text/plain": [
       "<matplotlib.collections.PathCollection at 0x3ca363ca0>"
      ]
     },
     "execution_count": 51,
     "metadata": {},
     "output_type": "execute_result"
    },
    {
     "data": {
      "image/png": "[encoded data removed]",
      "text/plain": [
       "<Figure size 432x288 with 1 Axes>"
      ]
     },
     "metadata": {
      "needs_background": "light"
     },
     "output_type": "display_data"
    }
   ],
   "source": [
    "plt.scatter(b_true, P)"
   ]
  },
  {
   "cell_type": "code",
   "execution_count": null,
   "metadata": {},
   "outputs": [],
   "source": []
  }
 ],
 "metadata": {
  "kernelspec": {
   "display_name": "Python 3.10.5 ('sklearn-env')",
   "language": "python",
   "name": "python3"
  },
  "language_info": {
   "codemirror_mode": {
    "name": "ipython",
    "version": 3
   },
   "file_extension": ".py",
   "mimetype": "text/x-python",
   "name": "python",
   "nbconvert_exporter": "python",
   "pygments_lexer": "ipython3",
   "version": "3.10.5"
  },
  "orig_nbformat": 4,
  "vscode": {
   "interpreter": {
    "hash": "afca08f0a16e92f17a1108b8c4a14bb3a160c0aa49cedbc8bb2f1eb603816dc1"
   }
  }
 },
 "nbformat": 4,
 "nbformat_minor": 2
}
