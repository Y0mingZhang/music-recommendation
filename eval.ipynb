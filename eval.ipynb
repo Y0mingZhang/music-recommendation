{
 "cells": [
  {
   "cell_type": "code",
   "execution_count": 2,
   "metadata": {},
   "outputs": [],
   "source": [
    "import json\n",
    "import random\n",
    "import numpy as np\n",
    "import pandas as pd\n",
    "import matplotlib.pyplot as plt\n",
    "from src.recommend.user_knn import *\n",
    "from src.recommend.utils import *\n",
    "import tqdm\n",
    "import warnings\n",
    "import matplotlib"
   ]
  },
  {
   "cell_type": "code",
   "execution_count": 3,
   "metadata": {},
   "outputs": [],
   "source": [
    "def convert_vector(b):\n",
    "    n = len(b)\n",
    "    valid_idx = np.where(~np.isnan(b))[0] #2d vector of nx1, only want row index of valid values\n",
    "    D0 = np.ones([n, len(valid_idx)])\n",
    "    for i, val in enumerate(valid_idx):\n",
    "        D0[val, i] = np.nan\n",
    "    B = b * D0 # broacast\n",
    "    return B"
   ]
  },
  {
   "cell_type": "code",
   "execution_count": 4,
   "metadata": {},
   "outputs": [],
   "source": [
    "d = './processed/filtered/'\n",
    "album_df, user_dfs = load_dataframes(d)\n",
    "(user_train_df, user_val_df, user_test_df) = user_dfs"
   ]
  },
  {
   "cell_type": "code",
   "execution_count": 5,
   "metadata": {},
   "outputs": [],
   "source": [
    "X_train = generate_user_item_matrix(user_train_df, album_df)\n",
    "X_val = generate_user_item_matrix(user_val_df, album_df)\n",
    "X_test = generate_user_item_matrix(user_test_df, album_df)"
   ]
  },
  {
   "cell_type": "code",
   "execution_count": 6,
   "metadata": {},
   "outputs": [],
   "source": [
    "# convert from user-rating to rating-user\n",
    "X_train = X_train.T\n",
    "X_test = X_test.T"
   ]
  },
  {
   "cell_type": "code",
   "execution_count": 43,
   "metadata": {},
   "outputs": [],
   "source": [
    "random.seed(42)\n",
    "N = 10\n",
    "test_idx_n = random.sample(range(X_test.shape[1]), k=N)"
   ]
  },
  {
   "cell_type": "code",
   "execution_count": 44,
   "metadata": {},
   "outputs": [
    {
     "data": {
      "text/plain": [
       "array([351,  20, 175,  22,  40, 422,  25,  13,  31,  22])"
      ]
     },
     "execution_count": 44,
     "metadata": {},
     "output_type": "execute_result"
    }
   ],
   "source": [
    "np.sum(~np.isnan(X_test[:, test_idx_n]), axis=0)"
   ]
  },
  {
   "cell_type": "code",
   "execution_count": 45,
   "metadata": {},
   "outputs": [],
   "source": [
    "#convert 0 to Nan\n",
    "X_train = X_train.astype('float')\n",
    "X_test = X_test.astype('float')\n",
    "X_train[X_train == 0.0] = np.nan\n",
    "X_test[X_test == 0.0] = np.nan"
   ]
  },
  {
   "cell_type": "markdown",
   "metadata": {},
   "source": [
    "## Strong Generalization"
   ]
  },
  {
   "cell_type": "code",
   "execution_count": 46,
   "metadata": {},
   "outputs": [],
   "source": [
    "uk = UserKNN(X_train)"
   ]
  },
  {
   "cell_type": "code",
   "execution_count": 47,
   "metadata": {},
   "outputs": [],
   "source": [
    "def strong_gen_preds(uk, X_test, sample_idx=[0]):\n",
    "    P_list = []\n",
    "    for i in tqdm.tqdm(sample_idx):\n",
    "        b = X_test[:,i].reshape([-1,1])\n",
    "        uk.B = convert_vector(b)\n",
    "        uk.b_valid_idx = np.where(~np.isnan(b))[0]\n",
    "        uk.gen_M(strong=True)\n",
    "        uk.gen_mu(strong=True)\n",
    "        uk.gen_corrcoef(strong=True) # one vector of test data, 3:22 (17,733 train vectors, 86 test vectors perturbations)\n",
    "        uk.gen_preds(strong=True)\n",
    "        P_list.append(uk.P_strong)\n",
    "    return P_list"
   ]
  },
  {
   "cell_type": "code",
   "execution_count": 48,
   "metadata": {},
   "outputs": [
    {
     "name": "stderr",
     "output_type": "stream",
     "text": [
      "100%|██████████| 10/10 [1:14:15<00:00, 445.58s/it]\n"
     ]
    }
   ],
   "source": [
    "warnings.filterwarnings(\"ignore\")\n",
    "strong_Pn = strong_gen_preds(uk, X_test, sample_idx=test_idx_n)"
   ]
  },
  {
   "cell_type": "code",
   "execution_count": 61,
   "metadata": {},
   "outputs": [],
   "source": [
    "b_true_list = []\n",
    "b_valid_len = []\n",
    "for i in range(N):\n",
    "    idx = test_idx_n[i]\n",
    "    b = X_test[:,idx].reshape([-1,1])\n",
    "    b_valid_idx = np.where(~np.isnan(b))[0]\n",
    "    b_true = np.array([b[v] for v in b_valid_idx]).squeeze()\n",
    "    b_true_list.append(b_true.tolist())\n",
    "    b_valid_len.append(len(b_true))"
   ]
  },
  {
   "cell_type": "code",
   "execution_count": 60,
   "metadata": {},
   "outputs": [
    {
     "data": {
      "text/plain": [
       "list"
      ]
     },
     "execution_count": 60,
     "metadata": {},
     "output_type": "execute_result"
    }
   ],
   "source": [
    "type(strong_Pn[0])"
   ]
  },
  {
   "cell_type": "code",
   "execution_count": 62,
   "metadata": {},
   "outputs": [],
   "source": [
    "strong_gen_results = {\n",
    "    'y_trues': b_true_list,\n",
    "    'y_hats': strong_Pn,\n",
    "    'test_idx':  test_idx_n\n",
    "}\n",
    "with open('strong_generalization_10raters_results.json', 'w') as fp:\n",
    "    json.dump(strong_gen_results, fp)"
   ]
  },
  {
   "cell_type": "markdown",
   "metadata": {},
   "source": [
    "\n",
    "### SG Performance\n",
    "Mean absolute error for each test user"
   ]
  },
  {
   "cell_type": "code",
   "execution_count": 64,
   "metadata": {},
   "outputs": [
    {
     "name": "stdout",
     "output_type": "stream",
     "text": [
      "---\n",
      "Number of ratings for test user 0: 351\n",
      "Mean absolute error: 9.99\n",
      "---\n",
      "Number of ratings for test user 1: 20\n",
      "Mean absolute error: 6.63\n",
      "---\n",
      "Number of ratings for test user 2: 175\n",
      "Mean absolute error: 7.41\n",
      "---\n",
      "Number of ratings for test user 3: 22\n",
      "Mean absolute error: 9.27\n",
      "---\n",
      "Number of ratings for test user 4: 40\n",
      "Mean absolute error: 5.86\n",
      "---\n",
      "Number of ratings for test user 5: 422\n",
      "Mean absolute error: 7.19\n",
      "---\n",
      "Number of ratings for test user 6: 25\n",
      "Mean absolute error: 6.0\n",
      "---\n",
      "Number of ratings for test user 7: 13\n",
      "Mean absolute error: 7.03\n",
      "---\n",
      "Number of ratings for test user 8: 31\n",
      "Mean absolute error: 8.35\n",
      "---\n",
      "Number of ratings for test user 9: 22\n",
      "Mean absolute error: 10.98\n"
     ]
    }
   ],
   "source": [
    "\n",
    "for i, P in enumerate(strong_Pn):\n",
    "    y_hat = np.array(P)\n",
    "    y_true = np.array(b_true_list[i])\n",
    "    print(\"---\")\n",
    "    print(f\"Number of ratings for test user {i}: {len(P)}\")\n",
    "    print(f\"Mean absolute error: {round(np.mean(abs(y_true - y_hat)),2)}\")"
   ]
  },
  {
   "cell_type": "code",
   "execution_count": 67,
   "metadata": {},
   "outputs": [
    {
     "name": "stdout",
     "output_type": "stream",
     "text": [
      "Mean absolute error: 8.17\n"
     ]
    }
   ],
   "source": [
    "y_hats = np.array([s for sublist in strong_Pn for s in sublist])\n",
    "y_trues = np.array([s for sublist in b_true_list for s in sublist])\n",
    "print(f\"Mean absolute error: {round(np.mean(abs(y_trues - y_hats)),2)}\")"
   ]
  },
  {
   "cell_type": "code",
   "execution_count": 68,
   "metadata": {},
   "outputs": [
    {
     "data": {
      "text/plain": [
       "<matplotlib.collections.PathCollection at 0x1600bf970>"
      ]
     },
     "execution_count": 68,
     "metadata": {},
     "output_type": "execute_result"
    },
    {
     "data": {
      "image/png": "[encoded data removed]",
      "text/plain": [
       "<Figure size 432x288 with 1 Axes>"
      ]
     },
     "metadata": {
      "needs_background": "light"
     },
     "output_type": "display_data"
    }
   ],
   "source": [
    "plt.scatter(y_trues, y_hats)"
   ]
  },
  {
   "cell_type": "markdown",
   "metadata": {},
   "source": [
    "## Weak Generalization"
   ]
  },
  {
   "cell_type": "code",
   "execution_count": 56,
   "metadata": {},
   "outputs": [],
   "source": [
    "wuk = UserKNN(X_train)"
   ]
  },
  {
   "cell_type": "code",
   "execution_count": 58,
   "metadata": {},
   "outputs": [],
   "source": [
    "wuk.gen_valid_idx()\n",
    "wuk.split_test_weak()\n",
    "wuk.gen_M()\n",
    "wuk.gen_mu()"
   ]
  },
  {
   "cell_type": "code",
   "execution_count": 62,
   "metadata": {},
   "outputs": [],
   "source": [
    "wuk.gen_corrcoef()"
   ]
  },
  {
   "cell_type": "code",
   "execution_count": 63,
   "metadata": {},
   "outputs": [],
   "source": [
    "wuk.gen_preds()"
   ]
  },
  {
   "cell_type": "code",
   "execution_count": 69,
   "metadata": {},
   "outputs": [],
   "source": [
    "y_trues = []\n",
    "y_hats = []\n",
    "for t in wuk.A_test_idx:\n",
    "    i, j = t\n",
    "    y_true = wuk.A[i,j]\n",
    "    y_hat = wuk.P[i,j]\n",
    "    y_trues.append(y_true)\n",
    "    y_hats.append(y_hat)\n",
    "    #print(f'True value: {y_true}')\n",
    "    #print(f'Pred value: {}')\n",
    "    #print(f'Delta: {abs(wuk.A[i,j] - wuk.P[i,j])}')\n",
    "y_trues = np.array(y_trues)\n",
    "y_hats = np.array(y_hats)"
   ]
  },
  {
   "cell_type": "code",
   "execution_count": null,
   "metadata": {},
   "outputs": [],
   "source": [
    "weak_gen_results = {\n",
    "    'y_trues': y_trues,\n",
    "    'y_hats': y_hats,\n",
    "    'test_idx':  [(int(i), int(j) for i,j in wuk.A_test_idx)]\n",
    "}\n",
    "with open('weak_generalization_8020_results.json', 'w') as fp:\n",
    "    json.dump(weak_gen_results, fp)"
   ]
  },
  {
   "cell_type": "code",
   "execution_count": 85,
   "metadata": {},
   "outputs": [
    {
     "name": "stdout",
     "output_type": "stream",
     "text": [
      "Number of test predictions 585129\n",
      "Mean absolute error: 8.58\n",
      "RMSE: 11.827177880350877\n"
     ]
    }
   ],
   "source": [
    "print(f'Number of test predictions {len(wuk.A_test_idx)}')\n",
    "print(f'Mean absolute error: {round(np.mean(abs(y_trues - y_hats)),2)}')\n",
    "print(f'RMSE: {np.sqrt(np.mean((y_trues - y_hats)**2))}')"
   ]
  },
  {
   "cell_type": "code",
   "execution_count": 83,
   "metadata": {},
   "outputs": [
    {
     "data": {
      "text/plain": [
       "<matplotlib.collections.PathCollection at 0x1322990c0>"
      ]
     },
     "execution_count": 83,
     "metadata": {},
     "output_type": "execute_result"
    },
    {
     "data": {
      "image/png": "[encoded data removed]",
      "text/plain": [
       "<Figure size 432x288 with 1 Axes>"
      ]
     },
     "metadata": {
      "needs_background": "light"
     },
     "output_type": "display_data"
    }
   ],
   "source": [
    "plt.scatter(x=y_trues, y=y_hats,alpha=0.025)"
   ]
  },
  {
   "cell_type": "code",
   "execution_count": 74,
   "metadata": {},
   "outputs": [
    {
     "data": {
      "text/plain": [
       "(array([2.00000e+00, 6.00000e+00, 1.80000e+01, 3.10000e+01, 4.30000e+01,\n",
       "        4.70000e+01, 9.40000e+01, 1.59000e+02, 2.12000e+02, 3.55000e+02,\n",
       "        4.96000e+02, 7.15000e+02, 1.12400e+03, 1.49400e+03, 2.33900e+03,\n",
       "        3.62000e+03, 5.39300e+03, 8.35100e+03, 1.36520e+04, 2.39210e+04,\n",
       "        4.39730e+04, 7.58340e+04, 1.05508e+05, 1.07008e+05, 8.33740e+04,\n",
       "        5.23820e+04, 2.88230e+04, 1.40330e+04, 6.52500e+03, 2.93500e+03,\n",
       "        1.37400e+03, 5.87000e+02, 3.32000e+02, 1.53000e+02, 7.40000e+01,\n",
       "        4.60000e+01, 3.50000e+01, 1.70000e+01, 1.30000e+01, 9.00000e+00,\n",
       "        3.00000e+00, 2.00000e+00, 1.00000e+00, 1.00000e+00, 2.00000e+00,\n",
       "        3.00000e+00, 5.00000e+00, 3.00000e+00, 1.00000e+00, 1.00000e+00]),\n",
       " array([-101.19952911,  -96.78960053,  -92.37967196,  -87.96974339,\n",
       "         -83.55981482,  -79.14988624,  -74.73995767,  -70.3300291 ,\n",
       "         -65.92010052,  -61.51017195,  -57.10024338,  -52.69031481,\n",
       "         -48.28038623,  -43.87045766,  -39.46052909,  -35.05060052,\n",
       "         -30.64067194,  -26.23074337,  -21.8208148 ,  -17.41088623,\n",
       "         -13.00095765,   -8.59102908,   -4.18110051,    0.22882807,\n",
       "           4.63875664,    9.04868521,   13.45861378,   17.86854236,\n",
       "          22.27847093,   26.6883995 ,   31.09832807,   35.50825665,\n",
       "          39.91818522,   44.32811379,   48.73804237,   53.14797094,\n",
       "          57.55789951,   61.96782808,   66.37775666,   70.78768523,\n",
       "          75.1976138 ,   79.60754237,   84.01747095,   88.42739952,\n",
       "          92.83732809,   97.24725667,  101.65718524,  106.06711381,\n",
       "         110.47704238,  114.88697096,  119.29689953]),\n",
       " <BarContainer object of 50 artists>)"
      ]
     },
     "execution_count": 74,
     "metadata": {},
     "output_type": "execute_result"
    },
    {
     "data": {
      "image/png": "[encoded data removed]",
      "text/plain": [
       "<Figure size 432x288 with 1 Axes>"
      ]
     },
     "metadata": {
      "needs_background": "light"
     },
     "output_type": "display_data"
    }
   ],
   "source": [
    "plt.hist(y_trues-y_hats, bins=50)"
   ]
  },
  {
   "cell_type": "code",
   "execution_count": null,
   "metadata": {},
   "outputs": [],
   "source": []
  }
 ],
 "metadata": {
  "kernelspec": {
   "display_name": "Python 3.10.5 ('sklearn-env')",
   "language": "python",
   "name": "python3"
  },
  "language_info": {
   "codemirror_mode": {
    "name": "ipython",
    "version": 3
   },
   "file_extension": ".py",
   "mimetype": "text/x-python",
   "name": "python",
   "nbconvert_exporter": "python",
   "pygments_lexer": "ipython3",
   "version": "3.10.5"
  },
  "orig_nbformat": 4,
  "vscode": {
   "interpreter": {
    "hash": "afca08f0a16e92f17a1108b8c4a14bb3a160c0aa49cedbc8bb2f1eb603816dc1"
   }
  }
 },
 "nbformat": 4,
 "nbformat_minor": 2
}
