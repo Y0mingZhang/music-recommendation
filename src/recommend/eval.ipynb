{
 "cells": [
  {
   "cell_type": "code",
   "execution_count": 53,
   "metadata": {},
   "outputs": [],
   "source": [
    "import json\n",
    "import random\n",
    "import numpy as np\n",
    "import pandas as pd\n",
    "import matplotlib.pyplot as plt\n",
    "from user_knn import *\n",
    "from utils import *\n",
    "from sklearn.metrics import auc \n",
    "import tqdm\n",
    "import warnings\n",
    "import seaborn as sns"
   ]
  },
  {
   "cell_type": "code",
   "execution_count": 54,
   "metadata": {},
   "outputs": [],
   "source": [
    "d = '../../processed/filtered/'\n",
    "album_df, user_dfs = load_dataframes(d)\n",
    "(user_train_df, user_val_df, user_test_df) = user_dfs"
   ]
  },
  {
   "cell_type": "code",
   "execution_count": 55,
   "metadata": {},
   "outputs": [
    {
     "ename": "KeyboardInterrupt",
     "evalue": "",
     "output_type": "error",
     "traceback": [
      "\u001b[0;31m---------------------------------------------------------------------------\u001b[0m",
      "\u001b[0;31mKeyboardInterrupt\u001b[0m                         Traceback (most recent call last)",
      "\u001b[1;32m/Users/zmeitus/git-hub/music-recommendation/src/recommend/eval.ipynb Cell 3\u001b[0m in \u001b[0;36m<cell line: 1>\u001b[0;34m()\u001b[0m\n\u001b[0;32m----> <a href='vscode-notebook-cell:/Users/zmeitus/git-hub/music-recommendation/src/recommend/eval.ipynb#W2sZmlsZQ%3D%3D?line=0'>1</a>\u001b[0m X_train \u001b[39m=\u001b[39m generate_user_item_matrix(user_train_df, album_df)\n\u001b[1;32m      <a href='vscode-notebook-cell:/Users/zmeitus/git-hub/music-recommendation/src/recommend/eval.ipynb#W2sZmlsZQ%3D%3D?line=1'>2</a>\u001b[0m X_val \u001b[39m=\u001b[39m generate_user_item_matrix(user_val_df, album_df)\n\u001b[1;32m      <a href='vscode-notebook-cell:/Users/zmeitus/git-hub/music-recommendation/src/recommend/eval.ipynb#W2sZmlsZQ%3D%3D?line=2'>3</a>\u001b[0m X_test \u001b[39m=\u001b[39m generate_user_item_matrix(user_test_df, album_df)\n",
      "File \u001b[0;32m~/git-hub/music-recommendation/src/recommend/utils.py:38\u001b[0m, in \u001b[0;36mgenerate_user_item_matrix\u001b[0;34m(user_df, album_df)\u001b[0m\n\u001b[1;32m     36\u001b[0m             data\u001b[39m.\u001b[39mappend(review[\u001b[39m\"\u001b[39m\u001b[39mrating\u001b[39m\u001b[39m\"\u001b[39m])\n\u001b[1;32m     37\u001b[0m             row_indices\u001b[39m.\u001b[39mappend(i)\n\u001b[0;32m---> 38\u001b[0m             col_indices\u001b[39m.\u001b[39mappend(album_id_to_idx[review[\u001b[39m\"\u001b[39;49m\u001b[39malbum_id\u001b[39;49m\u001b[39m\"\u001b[39;49m]])\n\u001b[1;32m     40\u001b[0m \u001b[39mreturn\u001b[39;00m csr_array((data, (row_indices, col_indices)), shape\u001b[39m=\u001b[39m(U, I))\u001b[39m.\u001b[39mtoarray()\n",
      "File \u001b[0;32m/opt/homebrew/anaconda3/envs/sklearn-env/lib/python3.10/site-packages/pandas/core/series.py:958\u001b[0m, in \u001b[0;36mSeries.__getitem__\u001b[0;34m(self, key)\u001b[0m\n\u001b[1;32m    955\u001b[0m     \u001b[39mreturn\u001b[39;00m \u001b[39mself\u001b[39m\u001b[39m.\u001b[39m_values[key]\n\u001b[1;32m    957\u001b[0m \u001b[39melif\u001b[39;00m key_is_scalar:\n\u001b[0;32m--> 958\u001b[0m     \u001b[39mreturn\u001b[39;00m \u001b[39mself\u001b[39;49m\u001b[39m.\u001b[39;49m_get_value(key)\n\u001b[1;32m    960\u001b[0m \u001b[39mif\u001b[39;00m is_hashable(key):\n\u001b[1;32m    961\u001b[0m     \u001b[39m# Otherwise index.get_value will raise InvalidIndexError\u001b[39;00m\n\u001b[1;32m    962\u001b[0m     \u001b[39mtry\u001b[39;00m:\n\u001b[1;32m    963\u001b[0m         \u001b[39m# For labels that don't resolve as scalars like tuples and frozensets\u001b[39;00m\n",
      "File \u001b[0;32m/opt/homebrew/anaconda3/envs/sklearn-env/lib/python3.10/site-packages/pandas/core/series.py:1070\u001b[0m, in \u001b[0;36mSeries._get_value\u001b[0;34m(self, label, takeable)\u001b[0m\n\u001b[1;32m   1068\u001b[0m \u001b[39m# Similar to Index.get_value, but we do not fall back to positional\u001b[39;00m\n\u001b[1;32m   1069\u001b[0m loc \u001b[39m=\u001b[39m \u001b[39mself\u001b[39m\u001b[39m.\u001b[39mindex\u001b[39m.\u001b[39mget_loc(label)\n\u001b[0;32m-> 1070\u001b[0m \u001b[39mreturn\u001b[39;00m \u001b[39mself\u001b[39;49m\u001b[39m.\u001b[39;49mindex\u001b[39m.\u001b[39;49m_get_values_for_loc(\u001b[39mself\u001b[39;49m, loc, label)\n",
      "File \u001b[0;32m/opt/homebrew/anaconda3/envs/sklearn-env/lib/python3.10/site-packages/pandas/core/indexes/base.py:5656\u001b[0m, in \u001b[0;36mIndex._get_values_for_loc\u001b[0;34m(self, series, loc, key)\u001b[0m\n\u001b[1;32m   5647\u001b[0m \u001b[39m\"\"\"\u001b[39;00m\n\u001b[1;32m   5648\u001b[0m \u001b[39mDo a positional lookup on the given Series, returning either a scalar\u001b[39;00m\n\u001b[1;32m   5649\u001b[0m \u001b[39mor a Series.\u001b[39;00m\n\u001b[0;32m   (...)\u001b[0m\n\u001b[1;32m   5653\u001b[0m \u001b[39mkey is included for MultiIndex compat.\u001b[39;00m\n\u001b[1;32m   5654\u001b[0m \u001b[39m\"\"\"\u001b[39;00m\n\u001b[1;32m   5655\u001b[0m \u001b[39mif\u001b[39;00m is_integer(loc):\n\u001b[0;32m-> 5656\u001b[0m     \u001b[39mreturn\u001b[39;00m series\u001b[39m.\u001b[39;49m_values[loc]\n\u001b[1;32m   5658\u001b[0m \u001b[39mreturn\u001b[39;00m series\u001b[39m.\u001b[39miloc[loc]\n",
      "File \u001b[0;32m/opt/homebrew/anaconda3/envs/sklearn-env/lib/python3.10/site-packages/pandas/core/series.py:687\u001b[0m, in \u001b[0;36mSeries._values\u001b[0;34m(self)\u001b[0m\n\u001b[1;32m    647\u001b[0m     \u001b[39m\"\"\"\u001b[39;00m\n\u001b[1;32m    648\u001b[0m \u001b[39m    Return Series as ndarray or ndarray-like depending on the dtype.\u001b[39;00m\n\u001b[1;32m    649\u001b[0m \n\u001b[0;32m   (...)\u001b[0m\n\u001b[1;32m    683\u001b[0m \u001b[39m           '2013-01-03T05:00:00.000000000'], dtype='datetime64[ns]')\u001b[39;00m\n\u001b[1;32m    684\u001b[0m \u001b[39m    \"\"\"\u001b[39;00m\n\u001b[1;32m    685\u001b[0m     \u001b[39mreturn\u001b[39;00m \u001b[39mself\u001b[39m\u001b[39m.\u001b[39m_mgr\u001b[39m.\u001b[39mexternal_values()\n\u001b[0;32m--> 687\u001b[0m \u001b[39m@property\u001b[39m\n\u001b[1;32m    688\u001b[0m \u001b[39mdef\u001b[39;00m \u001b[39m_values\u001b[39m(\u001b[39mself\u001b[39m):\n\u001b[1;32m    689\u001b[0m     \u001b[39m\"\"\"\u001b[39;00m\n\u001b[1;32m    690\u001b[0m \u001b[39m    Return the internal repr of this data (defined by Block.interval_values).\u001b[39;00m\n\u001b[1;32m    691\u001b[0m \u001b[39m    This are the values as stored in the Block (ndarray or ExtensionArray\u001b[39;00m\n\u001b[0;32m   (...)\u001b[0m\n\u001b[1;32m    717\u001b[0m \n\u001b[1;32m    718\u001b[0m \u001b[39m    \"\"\"\u001b[39;00m\n\u001b[1;32m    719\u001b[0m     \u001b[39mreturn\u001b[39;00m \u001b[39mself\u001b[39m\u001b[39m.\u001b[39m_mgr\u001b[39m.\u001b[39minternal_values()\n",
      "\u001b[0;31mKeyboardInterrupt\u001b[0m: "
     ]
    }
   ],
   "source": [
    "X_train = generate_user_item_matrix(user_train_df, album_df)\n",
    "X_val = generate_user_item_matrix(user_val_df, album_df)\n",
    "X_test = generate_user_item_matrix(user_test_df, album_df)"
   ]
  },
  {
   "cell_type": "code",
   "execution_count": null,
   "metadata": {},
   "outputs": [],
   "source": [
    "album_df.drop('reviews', axis=1).to_csv('album_df.csv')"
   ]
  },
  {
   "cell_type": "code",
   "execution_count": null,
   "metadata": {},
   "outputs": [
    {
     "data": {
      "text/plain": [
       "(22167, 8855)"
      ]
     },
     "execution_count": 50,
     "metadata": {},
     "output_type": "execute_result"
    }
   ],
   "source": [
    "X = np.concatenate((X_train, X_val, X_test), axis=0)\n",
    "X.shape"
   ]
  },
  {
   "cell_type": "code",
   "execution_count": 57,
   "metadata": {},
   "outputs": [],
   "source": [
    "# convert from user-rating to rating-user\n",
    "X_train = X_train.T\n",
    "X_test = X_test.T\n",
    "X = X.T"
   ]
  },
  {
   "cell_type": "code",
   "execution_count": 59,
   "metadata": {},
   "outputs": [],
   "source": [
    "random.seed(42)\n",
    "N = 10\n",
    "test_idx_n = random.sample(range(X_test.shape[1]), k=N)"
   ]
  },
  {
   "cell_type": "code",
   "execution_count": 60,
   "metadata": {},
   "outputs": [
    {
     "data": {
      "text/plain": [
       "array([2217, 2217, 2217, 2217, 2217, 2217, 2217, 2217, 2217, 2217])"
      ]
     },
     "execution_count": 60,
     "metadata": {},
     "output_type": "execute_result"
    }
   ],
   "source": [
    "np.sum(~np.isnan(X_test[:, test_idx_n]), axis=0)"
   ]
  },
  {
   "cell_type": "code",
   "execution_count": 61,
   "metadata": {},
   "outputs": [],
   "source": [
    "#convert 0 to Nan\n",
    "X_train = X_train.astype('float')\n",
    "X_test = X_test.astype('float')\n",
    "X = X.astype('float')\n",
    "X_train[X_train == 0.0] = np.nan\n",
    "X_test[X_test == 0.0] = np.nan\n",
    "X[X == 0.0] = np.nan"
   ]
  },
  {
   "cell_type": "markdown",
   "metadata": {},
   "source": [
    "## Strong Generalization"
   ]
  },
  {
   "cell_type": "code",
   "execution_count": null,
   "metadata": {},
   "outputs": [],
   "source": [
    "uk = UserKNN(X_train)"
   ]
  },
  {
   "cell_type": "code",
   "execution_count": null,
   "metadata": {},
   "outputs": [
    {
     "name": "stderr",
     "output_type": "stream",
     "text": [
      "100%|██████████| 10/10 [1:14:15<00:00, 445.58s/it]\n"
     ]
    }
   ],
   "source": [
    "warnings.filterwarnings(\"ignore\")\n",
    "strong_Pn = strong_gen_preds(uk, X_test, sample_idx=test_idx_n)"
   ]
  },
  {
   "cell_type": "code",
   "execution_count": null,
   "metadata": {},
   "outputs": [],
   "source": [
    "b_true_list = []\n",
    "b_valid_len = []\n",
    "for i in range(N):\n",
    "    idx = test_idx_n[i]\n",
    "    b = X_test[:,idx].reshape([-1,1])\n",
    "    b_valid_idx = np.where(~np.isnan(b))[0]\n",
    "    b_true = np.array([b[v] for v in b_valid_idx]).squeeze()\n",
    "    b_true_list.append(b_true.tolist())\n",
    "    b_valid_len.append(len(b_true))"
   ]
  },
  {
   "cell_type": "code",
   "execution_count": null,
   "metadata": {},
   "outputs": [
    {
     "data": {
      "text/plain": [
       "list"
      ]
     },
     "execution_count": 60,
     "metadata": {},
     "output_type": "execute_result"
    }
   ],
   "source": [
    "type(strong_Pn[0])"
   ]
  },
  {
   "cell_type": "code",
   "execution_count": null,
   "metadata": {},
   "outputs": [],
   "source": [
    "strong_gen_results = {\n",
    "    'y_trues': b_true_list,\n",
    "    'y_hats': strong_Pn,\n",
    "    'test_idx':  test_idx_n\n",
    "}\n",
    "with open('strong_generalization_10raters_results.json', 'w') as fp:\n",
    "    json.dump(strong_gen_results, fp)"
   ]
  },
  {
   "cell_type": "markdown",
   "metadata": {},
   "source": [
    "\n",
    "### SG Performance\n",
    "Mean absolute error for each test user"
   ]
  },
  {
   "cell_type": "code",
   "execution_count": null,
   "metadata": {},
   "outputs": [
    {
     "name": "stdout",
     "output_type": "stream",
     "text": [
      "---\n",
      "Number of ratings for test user 0: 351\n",
      "Mean absolute error: 9.99\n",
      "---\n",
      "Number of ratings for test user 1: 20\n",
      "Mean absolute error: 6.63\n",
      "---\n",
      "Number of ratings for test user 2: 175\n",
      "Mean absolute error: 7.41\n",
      "---\n",
      "Number of ratings for test user 3: 22\n",
      "Mean absolute error: 9.27\n",
      "---\n",
      "Number of ratings for test user 4: 40\n",
      "Mean absolute error: 5.86\n",
      "---\n",
      "Number of ratings for test user 5: 422\n",
      "Mean absolute error: 7.19\n",
      "---\n",
      "Number of ratings for test user 6: 25\n",
      "Mean absolute error: 6.0\n",
      "---\n",
      "Number of ratings for test user 7: 13\n",
      "Mean absolute error: 7.03\n",
      "---\n",
      "Number of ratings for test user 8: 31\n",
      "Mean absolute error: 8.35\n",
      "---\n",
      "Number of ratings for test user 9: 22\n",
      "Mean absolute error: 10.98\n"
     ]
    }
   ],
   "source": [
    "for i, P in enumerate(strong_Pn):\n",
    "    y_hat = np.array(P)\n",
    "    y_true = np.array(b_true_list[i])\n",
    "    print(\"---\")\n",
    "    print(f\"Number of ratings for test user {i}: {len(P)}\")\n",
    "    print(f\"Mean absolute error: {round(np.mean(abs(y_true - y_hat)),2)}\")"
   ]
  },
  {
   "cell_type": "code",
   "execution_count": null,
   "metadata": {},
   "outputs": [
    {
     "name": "stdout",
     "output_type": "stream",
     "text": [
      "Mean absolute error: 8.17\n"
     ]
    }
   ],
   "source": [
    "y_hats = np.array([s for sublist in strong_Pn for s in sublist])\n",
    "y_trues = np.array([s for sublist in b_true_list for s in sublist])\n",
    "print(f\"Mean absolute error: {round(np.mean(abs(y_trues - y_hats)),2)}\")"
   ]
  },
  {
   "cell_type": "code",
   "execution_count": null,
   "metadata": {},
   "outputs": [
    {
     "data": {
      "text/plain": [
       "<matplotlib.collections.PathCollection at 0x1600bf970>"
      ]
     },
     "execution_count": 68,
     "metadata": {},
     "output_type": "execute_result"
    },
    {
     "data": {
      "image/png": "[encoded data removed]",
      "text/plain": [
       "<Figure size 432x288 with 1 Axes>"
      ]
     },
     "metadata": {
      "needs_background": "light"
     },
     "output_type": "display_data"
    }
   ],
   "source": [
    "plt.scatter(y_trues, y_hats)"
   ]
  },
  {
   "cell_type": "markdown",
   "metadata": {},
   "source": [
    "## Weak Generalization"
   ]
  },
  {
   "cell_type": "code",
   "execution_count": 62,
   "metadata": {},
   "outputs": [],
   "source": [
    "wuk = UserKNN(X)"
   ]
  },
  {
   "cell_type": "code",
   "execution_count": 63,
   "metadata": {},
   "outputs": [],
   "source": [
    "wuk.gen_valid_idx()\n",
    "wuk.split_test_weak()\n",
    "wuk.gen_M()\n",
    "wuk.gen_mu()"
   ]
  },
  {
   "cell_type": "code",
   "execution_count": 64,
   "metadata": {},
   "outputs": [],
   "source": [
    "wuk.gen_corrcoef()"
   ]
  },
  {
   "cell_type": "code",
   "execution_count": 65,
   "metadata": {},
   "outputs": [],
   "source": [
    "wuk.gen_preds()"
   ]
  },
  {
   "cell_type": "code",
   "execution_count": 66,
   "metadata": {},
   "outputs": [],
   "source": [
    "y_trues = []\n",
    "y_hats = []\n",
    "for t in wuk.A_test_idx:\n",
    "    i, j = t\n",
    "    y_true = wuk.A[i,j]\n",
    "    y_hat = wuk.P[i,j]\n",
    "    y_trues.append(y_true)\n",
    "    y_hats.append(y_hat)\n",
    "    #print(f'True value: {y_true}')\n",
    "    #print(f'Pred value: {}')\n",
    "    #print(f'Delta: {abs(wuk.A[i,j] - wuk.P[i,j])}')\n",
    "y_trues = np.array(y_trues)\n",
    "y_hats = np.array(y_hats)"
   ]
  },
  {
   "cell_type": "code",
   "execution_count": 81,
   "metadata": {},
   "outputs": [],
   "source": [
    "weak_gen_results = {\n",
    "    'y_trues': y_trues.tolist(),\n",
    "    'y_hats': y_hats.tolist(),\n",
    "    'test_idx': [(int(i), int(j)) for i,j in wuk.A_test_idx]\n",
    "}\n",
    "with open('./preds/weak_generalization_8020_results_fullX.json', 'w') as fp:\n",
    "    json.dump(weak_gen_results, fp)"
   ]
  },
  {
   "cell_type": "markdown",
   "metadata": {},
   "source": [
    "#### WG Performance"
   ]
  },
  {
   "cell_type": "code",
   "execution_count": 82,
   "metadata": {},
   "outputs": [
    {
     "name": "stdout",
     "output_type": "stream",
     "text": [
      "Number of test predictions 736944\n",
      "Mean absolute error: 8.55\n",
      "RMSE: 11.793278746840995\n"
     ]
    }
   ],
   "source": [
    "print(f'Number of test predictions {len(wuk.A_test_idx)}')\n",
    "print(f'Mean absolute error: {round(np.mean(abs(y_trues - y_hats)),2)}')\n",
    "print(f'RMSE: {np.sqrt(np.mean((y_trues - y_hats)**2))}')"
   ]
  },
  {
   "cell_type": "code",
   "execution_count": 83,
   "metadata": {},
   "outputs": [
    {
     "data": {
      "text/plain": [
       "<matplotlib.collections.PathCollection at 0x295a23dc0>"
      ]
     },
     "execution_count": 83,
     "metadata": {},
     "output_type": "execute_result"
    },
    {
     "data": {
      "image/png": "[encoded data removed]",
      "text/plain": [
       "<Figure size 432x288 with 1 Axes>"
      ]
     },
     "metadata": {
      "needs_background": "light"
     },
     "output_type": "display_data"
    }
   ],
   "source": [
    "plt.scatter(x=y_trues, y=y_hats,alpha=0.025)"
   ]
  },
  {
   "cell_type": "code",
   "execution_count": 84,
   "metadata": {},
   "outputs": [
    {
     "data": {
      "text/plain": [
       "(array([3.00000e+00, 1.00000e+00, 2.00000e+00, 4.00000e+00, 1.70000e+01,\n",
       "        2.30000e+01, 4.50000e+01, 8.30000e+01, 1.08000e+02, 1.80000e+02,\n",
       "        2.82000e+02, 3.99000e+02, 6.34000e+02, 9.99000e+02, 1.42900e+03,\n",
       "        2.22800e+03, 3.32400e+03, 5.15800e+03, 7.92400e+03, 1.26980e+04,\n",
       "        2.16180e+04, 3.98400e+04, 7.49270e+04, 1.21700e+05, 1.45351e+05,\n",
       "        1.25366e+05, 8.36730e+04, 4.67470e+04, 2.30400e+04, 1.04040e+04,\n",
       "        4.69100e+03, 2.10900e+03, 9.29000e+02, 4.70000e+02, 2.55000e+02,\n",
       "        1.18000e+02, 6.10000e+01, 3.10000e+01, 1.40000e+01, 1.80000e+01,\n",
       "        9.00000e+00, 8.00000e+00, 4.00000e+00, 1.00000e+00, 2.00000e+00,\n",
       "        1.00000e+00, 7.00000e+00, 2.00000e+00, 4.00000e+00, 3.00000e+00]),\n",
       " array([-112.05028696, -107.46129644, -102.87230591,  -98.28331539,\n",
       "         -93.69432486,  -89.10533434,  -84.51634381,  -79.92735329,\n",
       "         -75.33836276,  -70.74937224,  -66.16038171,  -61.57139118,\n",
       "         -56.98240066,  -52.39341013,  -47.80441961,  -43.21542908,\n",
       "         -38.62643856,  -34.03744803,  -29.44845751,  -24.85946698,\n",
       "         -20.27047646,  -15.68148593,  -11.09249541,   -6.50350488,\n",
       "          -1.91451436,    2.67447617,    7.26346669,   11.85245722,\n",
       "          16.44144774,   21.03043827,   25.61942879,   30.20841932,\n",
       "          34.79740984,   39.38640037,   43.97539089,   48.56438142,\n",
       "          53.15337195,   57.74236247,   62.331353  ,   66.92034352,\n",
       "          71.50933405,   76.09832457,   80.6873151 ,   85.27630562,\n",
       "          89.86529615,   94.45428667,   99.0432772 ,  103.63226772,\n",
       "         108.22125825,  112.81024877,  117.3992393 ]),\n",
       " <BarContainer object of 50 artists>)"
      ]
     },
     "execution_count": 84,
     "metadata": {},
     "output_type": "execute_result"
    },
    {
     "data": {
      "image/png": "[encoded data removed]",
      "text/plain": [
       "<Figure size 432x288 with 1 Axes>"
      ]
     },
     "metadata": {
      "needs_background": "light"
     },
     "output_type": "display_data"
    }
   ],
   "source": [
    "plt.hist(y_trues-y_hats, bins=50)"
   ]
  },
  {
   "cell_type": "markdown",
   "metadata": {},
   "source": [
    "## Implicit Performance\n",
    "\n",
    "### Weak Gen Perf"
   ]
  },
  {
   "cell_type": "code",
   "execution_count": 116,
   "metadata": {},
   "outputs": [],
   "source": [
    "# Opening JSON file\n",
    "f = open('./preds/weak_generalization_8020_results_fullX.json')\n",
    "  \n",
    "# returns JSON object as \n",
    "# a dictionary\n",
    "wg_results = json.load(f)\n",
    "y = np.array(wg_results['y_trues'])\n",
    "y_hat = np.array(wg_results['y_hats'])\n",
    "actual_threshold = 75\n",
    "y_imp = (y >= actual_threshold)\n",
    "y_hat_imp =(y_hat >= actual_threshold)\n"
   ]
  },
  {
   "cell_type": "code",
   "execution_count": 117,
   "metadata": {},
   "outputs": [],
   "source": [
    "def gen_roc_values(y_implicit, y_hat, actual_threshold=75):\n",
    "    tpr_list = []\n",
    "    fpr_list = []\n",
    "    color = []\n",
    "    for i in range(100):\n",
    "        thresh = i\n",
    "        if thresh == actual_threshold:\n",
    "            color.append('red')\n",
    "        else:\n",
    "            color.append('blue')\n",
    "        y_hat_implicit =(y_hat >= thresh)\n",
    "        tpr_list.append(np.sum(y_implicit * y_hat_implicit) / np.sum(y_implicit))\n",
    "\n",
    "        if np.sum(~y_implicit) == 0:\n",
    "            fpr_list.append(1)\n",
    "        else:\n",
    "            fpr_list.append(np.sum(~y_implicit * y_hat_implicit) / np.sum(~y_implicit))\n",
    "    return tpr_list, fpr_list, color\n"
   ]
  },
  {
   "cell_type": "code",
   "execution_count": 118,
   "metadata": {},
   "outputs": [],
   "source": [
    "y_implicit = (y >= actual_threshold)\n",
    "wg_tpr_list, wg_fpr_list, wg_color = gen_roc_values(y_implicit, y_hat)"
   ]
  },
  {
   "cell_type": "code",
   "execution_count": 119,
   "metadata": {},
   "outputs": [
    {
     "data": {
      "text/plain": [
       "<matplotlib.collections.PathCollection at 0x1683ee980>"
      ]
     },
     "execution_count": 119,
     "metadata": {},
     "output_type": "execute_result"
    },
    {
     "data": {
      "image/png": "[encoded data removed]",
      "text/plain": [
       "<Figure size 432x288 with 1 Axes>"
      ]
     },
     "metadata": {
      "needs_background": "light"
     },
     "output_type": "display_data"
    }
   ],
   "source": [
    "plt.scatter(x=wg_fpr_list, y=wg_tpr_list, color=wg_color)"
   ]
  },
  {
   "cell_type": "code",
   "execution_count": 120,
   "metadata": {},
   "outputs": [],
   "source": [
    "def gen_uk_metrics(y_imp, y_hat_imp, threshold):\n",
    "    precision = np.sum(y_imp * y_hat_imp) / np.sum(y_hat_imp)\n",
    "    recall = np.sum(y_imp * y_hat_imp) / np.sum(y_imp)\n",
    "    accuracy = np.sum(y_imp == y_hat_imp) / len(y_imp)\n",
    "    if precision + recall == 0:\n",
    "        f1 = 0\n",
    "    else:\n",
    "        f1 = (2 * precision * recall) / (precision + recall)\n",
    "    metrics = {\n",
    "        'n': len(y_hat_imp),\n",
    "        'threshold': actual_threshold,\n",
    "        'precision': precision,\n",
    "        'recall': recall,\n",
    "        'f1': f1,\n",
    "        'accuracy': accuracy,\n",
    "        'auc': None\n",
    "    }\n",
    "    return metrics"
   ]
  },
  {
   "cell_type": "code",
   "execution_count": 121,
   "metadata": {},
   "outputs": [
    {
     "name": "stdout",
     "output_type": "stream",
     "text": [
      "n: 736944\n",
      "threshold: 75\n",
      "precision: 0.851\n",
      "recall: 0.7947\n",
      "f1: 0.8219\n",
      "accuracy: 0.7817\n",
      "auc: 0.8608\n"
     ]
    }
   ],
   "source": [
    "wg_metrics = gen_uk_metrics(y_imp, y_hat_imp, actual_threshold)\n",
    "wg_metrics['auc'] = auc(x=wg_fpr_list, y=wg_tpr_list)\n",
    "for k, v in wg_metrics.items():\n",
    "    print(f'{k}: {round(v,4)}')"
   ]
  },
  {
   "cell_type": "markdown",
   "metadata": {},
   "source": [
    "### Strong Gen Perf"
   ]
  },
  {
   "cell_type": "code",
   "execution_count": 110,
   "metadata": {},
   "outputs": [],
   "source": [
    "# Opening JSON file\n",
    "f = open('./preds/strong_generalization_10raters_results.json')\n",
    "  \n",
    "# returns JSON object as \n",
    "# a dictionary\n",
    "sg_results = json.load(f)\n",
    "y_list = sg_results['y_trues']\n",
    "y_hat_list = sg_results['y_hats']\n",
    "\n",
    "y = []\n",
    "y_hat = []\n",
    "[y.extend(i) for i in y_list]\n",
    "[y_hat.extend(i) for i in y_hat_list]\n",
    "y_imp = np.array([i > actual_threshold for i in y])\n",
    "y_hat_imp = np.array([i > actual_threshold for i in y_hat])\n"
   ]
  },
  {
   "cell_type": "code",
   "execution_count": 111,
   "metadata": {},
   "outputs": [],
   "source": [
    "y_implicit = np.array(y) >= actual_threshold\n",
    "sg_tpr_list, sg_fpr_list, sg_color = gen_roc_values(y_implicit, np.array(y_hat))"
   ]
  },
  {
   "cell_type": "code",
   "execution_count": 114,
   "metadata": {},
   "outputs": [],
   "source": [
    "sg_metrics = gen_uk_metrics(y_imp, y_hat_imp, actual_threshold)\n",
    "sg_metrics['auc'] = auc(x=sg_fpr_list, y=sg_tpr_list)"
   ]
  },
  {
   "cell_type": "code",
   "execution_count": 115,
   "metadata": {},
   "outputs": [
    {
     "name": "stdout",
     "output_type": "stream",
     "text": [
      "n: 1121\n",
      "threshold: 75\n",
      "precision: 0.8504\n",
      "recall: 0.6243\n",
      "f1: 0.72\n",
      "accuracy: 0.7752\n",
      "auc: 0.8873\n"
     ]
    }
   ],
   "source": [
    "for k, v in sg_metrics.items():\n",
    "    print(f'{k}: {round(v,4)}')"
   ]
  },
  {
   "cell_type": "code",
   "execution_count": 107,
   "metadata": {},
   "outputs": [
    {
     "name": "stdout",
     "output_type": "stream",
     "text": [
      "MAE: 8.165874569701026\n",
      "RMSE: 10.687352078117772\n"
     ]
    }
   ],
   "source": [
    "print(f'MAE: {np.mean(abs(np.array(y) - np.array(y_hat)))}')\n",
    "print(f'RMSE: {np.sqrt(np.mean((np.array(y) - np.array(y_hat))**2))}')"
   ]
  },
  {
   "cell_type": "code",
   "execution_count": 93,
   "metadata": {},
   "outputs": [],
   "source": [
    "wg_df = pd.DataFrame(\n",
    "    {\n",
    "        'thresh': range(0,100),\n",
    "        'tpr': wg_tpr_list,\n",
    "        'fpr': wg_fpr_list,\n",
    "        'eval_method': ['weak'] * 100\n",
    "    }\n",
    ")\n",
    "sg_df = pd.DataFrame(\n",
    "    {\n",
    "        'thresh': range(0,100),\n",
    "        'tpr': sg_tpr_list,\n",
    "        'fpr': sg_fpr_list,\n",
    "        'eval_method': ['strong'] * 100\n",
    "    }\n",
    ")\n",
    "benchmark = pd.DataFrame(\n",
    "    {\n",
    "            'thresh': range(0,100),\n",
    "        'tpr': np.linspace(0,1,100),\n",
    "        'fpr': np.linspace(0,1,100),\n",
    "        'eval_method': ['benchmark'] * 100\n",
    "        \n",
    "    }\n",
    ")"
   ]
  },
  {
   "cell_type": "code",
   "execution_count": 94,
   "metadata": {},
   "outputs": [],
   "source": [
    "perf_df = pd.concat([sg_df, wg_df, benchmark], axis =0).reset_index()"
   ]
  },
  {
   "cell_type": "code",
   "execution_count": 143,
   "metadata": {},
   "outputs": [
    {
     "data": {
      "text/plain": [
       "Text(0, 0.5, 'True Positive Rate')"
      ]
     },
     "execution_count": 143,
     "metadata": {},
     "output_type": "execute_result"
    },
    {
     "data": {
      "image/png": "[encoded data removed]",
      "text/plain": [
       "<Figure size 432x432 with 1 Axes>"
      ]
     },
     "metadata": {},
     "output_type": "display_data"
    }
   ],
   "source": [
    "roc_palette = [sns.color_palette('deep')[0], sns.color_palette('deep')[3], 'black']\n",
    "sns.set(font_scale=1.25)\n",
    "\n",
    "fig, ax = plt.subplots(figsize=(6,6))\n",
    "plot1 = sns.lineplot(data=perf_df, x='fpr', y='tpr', hue='eval_method', \n",
    "    style='eval_method',\n",
    "    palette=roc_palette)\n",
    "\n",
    "plt.scatter(sg_fpr_list[75], sg_tpr_list[75], marker='o', color=roc_palette[0])\n",
    "plt.scatter(wg_fpr_list[75], wg_tpr_list[75], marker='o', color=roc_palette[1])\n",
    "plt.xlabel('False Positive Rate')\n",
    "plt.ylabel('True Positive Rate')"
   ]
  },
  {
   "cell_type": "code",
   "execution_count": null,
   "metadata": {},
   "outputs": [],
   "source": []
  }
 ],
 "metadata": {
  "kernelspec": {
   "display_name": "Python 3.10.5 ('sklearn-env')",
   "language": "python",
   "name": "python3"
  },
  "language_info": {
   "codemirror_mode": {
    "name": "ipython",
    "version": 3
   },
   "file_extension": ".py",
   "mimetype": "text/x-python",
   "name": "python",
   "nbconvert_exporter": "python",
   "pygments_lexer": "ipython3",
   "version": "3.10.5"
  },
  "vscode": {
   "interpreter": {
    "hash": "afca08f0a16e92f17a1108b8c4a14bb3a160c0aa49cedbc8bb2f1eb603816dc1"
   }
  }
 },
 "nbformat": 4,
 "nbformat_minor": 2
}
